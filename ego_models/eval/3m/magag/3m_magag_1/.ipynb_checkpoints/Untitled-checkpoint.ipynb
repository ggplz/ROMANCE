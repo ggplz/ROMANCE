{
 "cells": [
  {
   "cell_type": "code",
   "execution_count": 1,
   "id": "a4951817",
   "metadata": {},
   "outputs": [],
   "source": [
    "import numpy as np"
   ]
  },
  {
   "cell_type": "code",
   "execution_count": 2,
   "id": "f1637223",
   "metadata": {},
   "outputs": [],
   "source": [
    "x = np.loadtxt(\"./test_return.txt\")"
   ]
  },
  {
   "cell_type": "code",
   "execution_count": 4,
   "id": "c39b1e3b",
   "metadata": {},
   "outputs": [
    {
     "data": {
      "text/plain": [
       "(201, 5)"
      ]
     },
     "execution_count": 4,
     "metadata": {},
     "output_type": "execute_result"
    }
   ],
   "source": [
    "x.shape"
   ]
  },
  {
   "cell_type": "code",
   "execution_count": 7,
   "id": "03381a98",
   "metadata": {},
   "outputs": [],
   "source": [
    "y = np.mean(x, axis=1)"
   ]
  },
  {
   "cell_type": "code",
   "execution_count": 8,
   "id": "66e7ab28",
   "metadata": {},
   "outputs": [
    {
     "data": {
      "text/plain": [
       "array([ -7.30520548,  -7.88164384, -10.7769863 , -11.65589041,\n",
       "       -12.34849315, -11.84438356, -17.2690411 , -15.83123288,\n",
       "       -15.39068493, -17.04109589, -15.26794521, -15.25479452,\n",
       "       -13.46849315, -17.42465753, -16.38794521, -16.        ,\n",
       "       -15.76109589, -16.85260274, -15.96054795, -16.26520548,\n",
       "       -17.9090411 , -16.78465753, -18.42630137, -17.61315068,\n",
       "       -16.22794521, -14.81643836, -16.93369863, -17.57369863,\n",
       "       -19.06630137, -16.61369863, -17.48164384, -17.9090411 ,\n",
       "       -18.00109589, -16.46684932, -19.00054795, -17.33260274,\n",
       "       -17.02794521, -16.50630137, -18.48109589, -17.10684932,\n",
       "       -16.22575342, -19.04      , -18.02739726, -17.9090411 ,\n",
       "       -16.05479452, -17.08054795, -16.51726027, -17.88054795,\n",
       "       -13.46191781, -18.24219178, -17.08054795, -17.52109589,\n",
       "       -17.50794521, -16.53479452, -17.41369863, -15.50684932,\n",
       "       -19.04      , -18.50739726, -17.9309589 , -17.50575342,\n",
       "       -17.02575342, -17.53424658, -14.74849315, -18.56      ,\n",
       "       -17.28876712, -16.33315068, -18.05369863, -17.58684932,\n",
       "       -19.02684932, -17.11780822, -16.82410959, -16.88109589,\n",
       "       -15.71068493, -18.53369863, -16.61369863, -17.95945205,\n",
       "       -17.45315068, -15.66684932, -17.42684932, -15.18684932,\n",
       "       -16.83945205, -15.31835616, -16.45589041, -18.93260274,\n",
       "       -18.98739726, -16.50849315, -17.04986301, -18.38684932,\n",
       "       -16.91835616, -16.96      , -17.34794521, -15.35780822,\n",
       "       -18.57315068, -16.53479452, -18.09315068, -19.52      ,\n",
       "       -16.11835616, -16.69041096, -16.7430137 , -16.55890411,\n",
       "       -17.54520548, -17.28219178, -16.83945205, -19.04      ,\n",
       "       -18.59945205, -19.43890411, -18.04054795, -18.13260274,\n",
       "       -18.02739726, -15.92109589, -16.78684932, -19.50684932,\n",
       "       -18.52054795, -17.90684932, -16.97534247, -17.08054795,\n",
       "       -18.36054795, -14.78794521, -17.97479452, -17.50575342,\n",
       "       -17.57369863, -17.81479452, -19.05315068, -18.45479452,\n",
       "       -18.52054795, -18.01424658, -18.54684932, -19.52      ,\n",
       "       -18.41315068, -17.6       , -18.52054795, -15.6690411 ,\n",
       "       -19.02684932, -18.49424658, -18.53369863, -19.46739726,\n",
       "       -17.50794521, -19.53315068, -18.42630137, -20.        ,\n",
       "       -16.96      , -18.42630137, -18.05369863, -18.38684932,\n",
       "       -17.41150685, -17.78410959, -18.42630137, -18.97424658,\n",
       "       -18.42630137, -16.87671233, -19.04      , -17.48164384,\n",
       "       -18.53369863, -20.        , -17.80164384, -18.04054795,\n",
       "       -17.93315068, -18.05369863, -17.82794521, -18.92164384,\n",
       "       -15.96054795, -17.45315068, -18.37150685, -19.00054795,\n",
       "       -20.        , -17.90684932, -17.00164384, -18.3890411 ,\n",
       "       -18.97424658, -19.49369863, -20.        , -18.00109589,\n",
       "       -19.50684932, -19.52      , -19.04      , -20.        ,\n",
       "       -18.94575342, -18.94575342, -20.        , -19.35780822,\n",
       "       -19.01369863, -16.48219178, -19.02684932, -19.01369863,\n",
       "       -19.50684932, -19.50684932, -17.89369863, -19.53315068,\n",
       "       -18.94575342, -19.53315068, -19.05315068, -18.50739726,\n",
       "       -19.42575342, -20.        , -19.02684932, -19.50684932,\n",
       "       -19.02684932, -20.        , -19.04      , -16.66630137,\n",
       "       -19.49369863])"
      ]
     },
     "execution_count": 8,
     "metadata": {},
     "output_type": "execute_result"
    }
   ],
   "source": [
    "y"
   ]
  },
  {
   "cell_type": "code",
   "execution_count": 10,
   "id": "a63adaad",
   "metadata": {},
   "outputs": [
    {
     "ename": "ImportError",
     "evalue": "cannot import name 'animation' from partially initialized module 'matplotlib' (most likely due to a circular import) (C:\\Users\\19124\\anaconda3\\lib\\site-packages\\matplotlib\\__init__.py)",
     "output_type": "error",
     "traceback": [
      "\u001b[1;31m---------------------------------------------------------------------------\u001b[0m",
      "\u001b[1;31mImportError\u001b[0m                               Traceback (most recent call last)",
      "\u001b[1;32m<ipython-input-10-a0d2faabd9e9>\u001b[0m in \u001b[0;36m<module>\u001b[1;34m\u001b[0m\n\u001b[1;32m----> 1\u001b[1;33m \u001b[1;32mimport\u001b[0m \u001b[0mmatplotlib\u001b[0m\u001b[1;33m.\u001b[0m\u001b[0mpyplot\u001b[0m \u001b[1;32mas\u001b[0m \u001b[0mplt\u001b[0m\u001b[1;33m\u001b[0m\u001b[1;33m\u001b[0m\u001b[0m\n\u001b[0m",
      "\u001b[1;32m~\\anaconda3\\lib\\site-packages\\matplotlib\\__init__.py\u001b[0m in \u001b[0;36m<module>\u001b[1;34m\u001b[0m\n\u001b[0;32m    137\u001b[0m \u001b[1;31m# cbook must import matplotlib only within function\u001b[0m\u001b[1;33m\u001b[0m\u001b[1;33m\u001b[0m\u001b[1;33m\u001b[0m\u001b[0m\n\u001b[0;32m    138\u001b[0m \u001b[1;31m# definitions, so it is safe to import from it here.\u001b[0m\u001b[1;33m\u001b[0m\u001b[1;33m\u001b[0m\u001b[1;33m\u001b[0m\u001b[0m\n\u001b[1;32m--> 139\u001b[1;33m \u001b[1;32mfrom\u001b[0m \u001b[1;33m.\u001b[0m \u001b[1;32mimport\u001b[0m \u001b[0mcbook\u001b[0m\u001b[1;33m,\u001b[0m \u001b[0mrcsetup\u001b[0m\u001b[1;33m\u001b[0m\u001b[1;33m\u001b[0m\u001b[0m\n\u001b[0m\u001b[0;32m    140\u001b[0m from matplotlib.cbook import (\n\u001b[0;32m    141\u001b[0m     MatplotlibDeprecationWarning, dedent, get_label, sanitize_sequence)\n",
      "\u001b[1;32m~\\anaconda3\\lib\\site-packages\\matplotlib\\rcsetup.py\u001b[0m in \u001b[0;36m<module>\u001b[1;34m\u001b[0m\n\u001b[0;32m     24\u001b[0m \u001b[1;32mimport\u001b[0m \u001b[0mnumpy\u001b[0m \u001b[1;32mas\u001b[0m \u001b[0mnp\u001b[0m\u001b[1;33m\u001b[0m\u001b[1;33m\u001b[0m\u001b[0m\n\u001b[0;32m     25\u001b[0m \u001b[1;33m\u001b[0m\u001b[0m\n\u001b[1;32m---> 26\u001b[1;33m \u001b[1;32mfrom\u001b[0m \u001b[0mmatplotlib\u001b[0m \u001b[1;32mimport\u001b[0m \u001b[0manimation\u001b[0m\u001b[1;33m,\u001b[0m \u001b[0mcbook\u001b[0m\u001b[1;33m\u001b[0m\u001b[1;33m\u001b[0m\u001b[0m\n\u001b[0m\u001b[0;32m     27\u001b[0m \u001b[1;32mfrom\u001b[0m \u001b[0mmatplotlib\u001b[0m\u001b[1;33m.\u001b[0m\u001b[0mcbook\u001b[0m \u001b[1;32mimport\u001b[0m \u001b[0mls_mapper\u001b[0m\u001b[1;33m\u001b[0m\u001b[1;33m\u001b[0m\u001b[0m\n\u001b[0;32m     28\u001b[0m \u001b[1;32mfrom\u001b[0m \u001b[0mmatplotlib\u001b[0m\u001b[1;33m.\u001b[0m\u001b[0mfontconfig_pattern\u001b[0m \u001b[1;32mimport\u001b[0m \u001b[0mparse_fontconfig_pattern\u001b[0m\u001b[1;33m\u001b[0m\u001b[1;33m\u001b[0m\u001b[0m\n",
      "\u001b[1;31mImportError\u001b[0m: cannot import name 'animation' from partially initialized module 'matplotlib' (most likely due to a circular import) (C:\\Users\\19124\\anaconda3\\lib\\site-packages\\matplotlib\\__init__.py)"
     ]
    }
   ],
   "source": [
    "import matplotlib.pyplot as plt"
   ]
  },
  {
   "cell_type": "code",
   "execution_count": null,
   "id": "fa4a58d4",
   "metadata": {},
   "outputs": [],
   "source": [
    "plt.plot()"
   ]
  }
 ],
 "metadata": {
  "kernelspec": {
   "display_name": "Python 3",
   "language": "python",
   "name": "python3"
  },
  "language_info": {
   "codemirror_mode": {
    "name": "ipython",
    "version": 3
   },
   "file_extension": ".py",
   "mimetype": "text/x-python",
   "name": "python",
   "nbconvert_exporter": "python",
   "pygments_lexer": "ipython3",
   "version": "3.8.8"
  }
 },
 "nbformat": 4,
 "nbformat_minor": 5
}
